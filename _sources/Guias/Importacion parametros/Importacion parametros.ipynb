{
 "cells": [
  {
   "cell_type": "markdown",
   "metadata": {},
   "source": [
    "# Importación de parámetros desde MS Excel\n",
    "\n",
    "Para empezar, la guía se realizará en base al problema de Family Knapsack que se introdujo como ejemplo en la guía *Matemáticas en MS Office*. El primer paso es importar la libreria **openpyxl** con la siguiente línea de código:"
   ]
  },
  {
   "cell_type": "code",
   "execution_count": 6,
   "metadata": {},
   "outputs": [],
   "source": [
    "from openpyxl import*"
   ]
  },
  {
   "cell_type": "markdown",
   "metadata": {},
   "source": [
    "````{margin}\n",
    "```{important} Nota\n",
    "\n",
    "De forma que la línea de código funcione en cualquier computador sin tener que actualizarla, se recomienda guardar el archivo con los parámetros en una carpeta en la que también se encuentre el archivo con la implementación del problema. Al realizar esto, la ruta se escribe con un punto seguido de un slash y el nombre del archivo con los parámetros. De esta manera, el punto hace automaticamente la referencia a la misma carpeta donde se encuentra el archivo en el que se esta realizando la implementación.\n",
    "\n",
    "````\n",
    "Luego, es necesario importar el libro de MS Excel donde se encuentran los parámetros del problema de optimización a resolver. En este caso el libro se llama *parametros.xlsx*. Esto se hace mediante la función *load_wokbook()* que recibe como parámetro la ruta donde se encuentra el archivo. Además, para poder realizar operaciones con el libro más adelante, se guardara el archivo en una nueva variable que se llamará *book*."
   ]
  },
  {
   "cell_type": "code",
   "execution_count": 7,
   "metadata": {},
   "outputs": [],
   "source": [
    "book = load_workbook(\"./parametros.xlsx\")"
   ]
  },
  {
   "cell_type": "markdown",
   "metadata": {},
   "source": [
    "Ahora, se debe guardar cada una de las hojas que tiene el libro de Excel con la función *get_sheet_by_name()* que recibe como parámetro el nombre de la hoja. En el ejemplo que estamos usando, el libro con los parámetros tiene tres hojas.\n",
    "\n",
    "![](./imagenes/fotoHojasLibro.png)"
   ]
  },
  {
   "cell_type": "markdown",
   "metadata": {},
   "source": [
    "````{margin}\n",
    "```{admonition} Nota\n",
    "\n",
    "En caso de que solo exista una hoja se puede utilizar únicamente la siguiente línea de código:\n",
    "\n",
    "sheet = book.active\n",
    "\n",
    "````"
   ]
  },
  {
   "cell_type": "code",
   "execution_count": 8,
   "metadata": {},
   "outputs": [
    {
     "name": "stderr",
     "output_type": "stream",
     "text": [
      "/Users/juanfeliperengifo/opt/anaconda3/lib/python3.7/site-packages/ipykernel_launcher.py:1: DeprecationWarning: Call to deprecated function get_sheet_by_name (Use wb[sheetname]).\n",
      "  \"\"\"Entry point for launching an IPython kernel.\n",
      "/Users/juanfeliperengifo/opt/anaconda3/lib/python3.7/site-packages/ipykernel_launcher.py:2: DeprecationWarning: Call to deprecated function get_sheet_by_name (Use wb[sheetname]).\n",
      "  \n",
      "/Users/juanfeliperengifo/opt/anaconda3/lib/python3.7/site-packages/ipykernel_launcher.py:3: DeprecationWarning: Call to deprecated function get_sheet_by_name (Use wb[sheetname]).\n",
      "  This is separate from the ipykernel package so we can avoid doing imports until\n"
     ]
    }
   ],
   "source": [
    "sheet1 = book.get_sheet_by_name(\"pesoObjetos\")\n",
    "sheet2 = book.get_sheet_by_name(\"pesoMaxExcursionistas\")\n",
    "sheet3 = book.get_sheet_by_name(\"preferencias\")"
   ]
  },
  {
   "cell_type": "markdown",
   "metadata": {},
   "source": [
    "Con lo anterior, se procede a guardar los parámetros en diccionarios. Para cada parámetro se debe seguir el siguiente procedimiento: \n",
    "1. Crear el diccionario donde se guardará su información.\n",
    "2. Realizar uno o dos recorridos para pasar por los valores de cada uno de los índices del parámetro.\n",
    "````{margin}\n",
    "```{admonition} Nota\n",
    "  \n",
    "El número de recorridos depende del número de conjuntos en los que esta indexado el parámetro en cuestión. En caso de que este indexado en tres o más conjuntos, se deberan construir varias tablas con ciertos índices fijos y se tendrán máximo dos recorridos (filas y columnas). \n",
    "\n",
    "````\n",
    "````{margin}\n",
    "```{admonition} Nota\n",
    "  \n",
    "Cada recorrido se definirá según dónde se encuentre la información en el archivo de excel. \n",
    "\n",
    "````\n",
    "3. Dentro del recorrido se guarda cada índice del parámetro en una variable.\n",
    "4. Dentro del recorrido se guarda el valor del índice en el diccionario donde los índices seran las llaves.\n",
    "\n",
    "En la primera hoja se encuentra el parámetro $p_i$ que hace referencia al peso de cada uno de los objetos.\n",
    "\n",
    "![](./imagenes/foto-p_i.png)\n",
    "\n",
    "Como este parámetro esta indexado únicamente en el conjunto de objetos, solo se debe realizar un recorrido. Este recorrido se definirá entre 3 y 6, pues estas son las filas donde se encuentran los valores de este parámetro para cada uno de los objetos. Para extraer el valor de una celda de Excel se utilizará el comando *.value*."
   ]
  },
  {
   "cell_type": "markdown",
   "metadata": {},
   "source": [
    "````\n",
    "````{margin}\n",
    "```{admonition} Nota\n",
    "  \n",
    "Es importante recordar que la función *range(i,j)* define una serie de números desde i hasta j-1. Es por esto que, en este caso, se utiliza el número 7 como j.\n",
    "\n",
    "````\n",
    "````\n",
    "````{margin}\n",
    "```{admonition} Nota\n",
    "  \n",
    "Es importante recordar que en la función *cell(i,j)*, i hace referencia a la fila y j a la columna. En este caso, como los índices (nombre de cada objeto) se encuentran en la segunda columna, se utiliza el número 2 como j para todas las iteraciones.\n",
    "\n",
    "````"
   ]
  },
  {
   "cell_type": "code",
   "execution_count": 11,
   "metadata": {},
   "outputs": [
    {
     "name": "stdout",
     "output_type": "stream",
     "text": [
      "{'Papá': 12, 'Mamá': 12, 'Hijo': 6, 'Hija': 6}\n"
     ]
    }
   ],
   "source": [
    "# 1. Se crea el diccionario para guardar la información del parámetro\n",
    "b = {}\n",
    "\n",
    "# 2. Se realiza el recorrido para guardar todos los valores necesarios\n",
    "for i in range(3,7):\n",
    "    objeto = sheet1.cell(i,2).value       # 3. Se guarda cada índice para luego utilizarlo como llave en el diccionario\n",
    "    b[objeto] = sheet1.cell(i,3).value    # 4. Se guarda el valor del índice correspondiente a la iteración\n",
    "\n",
    "# Se imprime el diccionario para verificar que se hayan importado correctamente los datos\n",
    "print(b)"
   ]
  },
  {
   "cell_type": "code",
   "execution_count": null,
   "metadata": {},
   "outputs": [],
   "source": []
  }
 ],
 "metadata": {
  "kernelspec": {
   "display_name": "Python 3",
   "language": "python",
   "name": "python3"
  },
  "language_info": {
   "codemirror_mode": {
    "name": "ipython",
    "version": 3
   },
   "file_extension": ".py",
   "mimetype": "text/x-python",
   "name": "python",
   "nbconvert_exporter": "python",
   "pygments_lexer": "ipython3",
   "version": "3.7.6"
  }
 },
 "nbformat": 4,
 "nbformat_minor": 4
}
