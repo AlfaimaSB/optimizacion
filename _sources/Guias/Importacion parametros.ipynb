{
 "cells": [
  {
   "cell_type": "markdown",
   "metadata": {},
   "source": [
    "# Importación de parámetros desde MS Excel\n",
    "\n",
    "Para empezar, se importa la libreria **openpyxl** con la siguiente línea de código:"
   ]
  },
  {
   "cell_type": "code",
   "execution_count": 1,
   "metadata": {},
   "outputs": [],
   "source": [
    "from openpyxl import*"
   ]
  },
  {
   "cell_type": "markdown",
   "metadata": {},
   "source": [
    "Luego, es necesario importar el libro de MS Excel donde se encuentran los parámetros del problema de optimización a resolver. Esto se hace mediante la función *load_wokbook()* que recibe como parámetro la ruta donde se encuentra el archivo. Además, para poder realizar operaciones con el libro más adelante, se guardara el archivo en una nueva variable que se llamará *book*.\n",
    "\n",
    "````{margin}\n",
    "```{admonition} Nota\n",
    "\n",
    "De forma que la línea de código funcione en cualquier computador sin tener que actualizarla, se recomienda guardar el archivo con los parámetros en una carpeta en la que también se encuentre el archivo con la implementación del problema. Al realizar esto, la ruta quedaria de la siguiente manera: *'./parámetros.xlsx'*, donde el punto hace automaticamente la referencia a la misma carpeta donde se encuentra el archivo en el que se esta trabajando.\n",
    "\n",
    "````"
   ]
  },
  {
   "cell_type": "code",
   "execution_count": null,
   "metadata": {},
   "outputs": [],
   "source": [
    "book = load_workbook()"
   ]
  },
  {
   "cell_type": "markdown",
   "metadata": {},
   "source": [
    "Ahora, se debe guardar cada una de las hojas que tiene el libro de Excel con la función *get_sheet_by_name()* que recibe como parámetro el nombre de la hoja. En el ejemplo que estamos usando, el libro con los parámetros tiene dos hojas."
   ]
  },
  {
   "cell_type": "code",
   "execution_count": null,
   "metadata": {},
   "outputs": [],
   "source": [
    "sheet1 = book.get_sheet_by_name()\n",
    "sheet2 = book.get_sheet_by_name()"
   ]
  }
 ],
 "metadata": {
  "kernelspec": {
   "display_name": "Python 3",
   "language": "python",
   "name": "python3"
  },
  "language_info": {
   "codemirror_mode": {
    "name": "ipython",
    "version": 3
   },
   "file_extension": ".py",
   "mimetype": "text/x-python",
   "name": "python",
   "nbconvert_exporter": "python",
   "pygments_lexer": "ipython3",
   "version": "3.7.6"
  }
 },
 "nbformat": 4,
 "nbformat_minor": 4
}
