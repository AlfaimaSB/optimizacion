{
 "cells": [
  {
   "cell_type": "markdown",
   "metadata": {},
   "source": [
    "# Transporte Solución"
   ]
  },
  {
   "cell_type": "markdown",
   "metadata": {},
   "source": [
    "## Enunciado\n",
    "La Lechita Ramírez S.A. es una empresa que produce productos lácteos y cuenta con cuatro plantas de producción en Colombia cuyas capacidades de producción mensuales de leche son 1500, 1200, 1400, y 1000 litros, respectivamente. Estas cuatro plantas suministran leche a los ocho clientes que actualmente tienen, los cuales son distribuidores minoristas de productos. Las demandas mensuales de leche de estos distribuidores son 930, 600, 460, 610, 830, 460, 640 y 240 litros, respectivamente. La Tabla 1 presenta el costo en el que incurre la compañía al enviar un litro de leche desde cada planta hacia cada distribuidor. "
   ]
  },
  {
   "cell_type": "markdown",
   "metadata": {},
   "source": [
    "*Tabla 1:*\n",
    "\n",
    "|            |**Dist. 1**|Dist. 2|Dist. 3|Dist. 4|Dist. 5|Dist. 6|Dist. 7|Dist. 8|\n",
    "|:----------:|----------:|------:|------:|------:|------:|------:|------:|------:|\n",
    "|**Planta 1**|650        |125    |1200   |340    |150    |260    |350    |800    |\n",
    "|**Planta 2**|250        |200    |250    |600    |150    |950    |1050   |1000   |\n",
    "|**Planta 3**|600        |350    |400    |260    |150    |300    |450    |600    |\n",
    "|**Planta 4**|450        |800    |650    |250    |340    |700    |600    |620    |"
   ]
  },
  {
   "cell_type": "markdown",
   "metadata": {},
   "source": [
    "<div style=\"text-align:justify\">\n",
    "Formule un modelo general de optimización lineal que le permita a La Lechita Ramírez satisfacer la demanda de sus clientes, al menor costo posible. Para esto usted debe seguir los siguientes pasos: "
   ]
  },
  {
   "cell_type": "markdown",
   "metadata": {},
   "source": [
    "## Formulación\n",
    "\n",
    "**1.** Escriba lo(s) conjunto(s), parámetro(s) y variable(s) de decisión que utilizará en el modelo.  \n",
    "\n",
    "### Conjuntos\n",
    "- $P$: Plantas\n",
    "- $D$: Distribuidores\n",
    "\n",
    "### Parámetros\n",
    "- $b_i$: oferta de leche de la planta $i\\in P$\n",
    "- $t_j$: demanda de leche del distribuidor $j\\in D$ \n",
    "- $c_{ij}$: costo de envío de un litro de leche de la planta $i\\in P$ al distribuidor $j\\in D$\n",
    "\n",
    "### Variables de decisión\n",
    "- $x_{ij}$: cantidad (en litros) de leche que van de la planta $i\\in P$ al distribuidor $j\\in D$"
   ]
  },
  {
   "cell_type": "markdown",
   "metadata": {},
   "source": [
    "### Restricciones\n",
    "**2.** Escriba la(s) restricción(es) lineal(es) que describe(n) que se debe respetar la oferta de las plantas.   \n",
    "\n",
    "\\begin{align}\n",
    "\\sum_{j\\in D}x_{ij} &\\le b_i, &&\\forall i\\in P.\n",
    "\\end{align}"
   ]
  },
  {
   "cell_type": "markdown",
   "metadata": {},
   "source": [
    "**3.** Escriba la(s) restricción(es) lineal(es) que describe(n) que se debe satisfacer la demanda de los distribuidores.  \n",
    "\n",
    "\\begin{align}\n",
    "\\sum_{i\\in P}x_{ij} &\\ge t_j, &&\\forall j\\in D.\n",
    "\\end{align}"
   ]
  },
  {
   "cell_type": "markdown",
   "metadata": {},
   "source": [
    "**4.** Escriba la(s) restricción(es) que describe(n) matemáticamente el tipo de variable(s) que está utilizando dentro del modelo.   \n",
    "\n",
    "\\begin{align}\n",
    "x_{ij} & \\ge 0, &&\\forall i\\in P,j\\in D.\n",
    "\\end{align}"
   ]
  },
  {
   "cell_type": "markdown",
   "metadata": {},
   "source": [
    "### Función Objetivo\n",
    "**5.** Escriba la función objetivo.\n",
    "\n",
    "$$\n",
    "\\text{minimizar }  \\sum_{i\\in P}\\sum_{j\\in D}x_{ij}c_{ij}\n",
    "$$"
   ]
  },
  {
   "cell_type": "markdown",
   "metadata": {},
   "source": [
    "## Formulación matemática completa"
   ]
  },
  {
   "cell_type": "markdown",
   "metadata": {},
   "source": [
    "**Conjuntos:**\n",
    "- $P$: Plantas\n",
    "- $D$: Distribuidores\n",
    "\n",
    "**Parámetros:**\n",
    "- $b_i$: oferta de leche de la planta $i\\in P$\n",
    "- $t_j$: demanda de leche del distribuidor $j\\in D$ \n",
    "- $c_{ij}$: costo de envío de un litro de leche de la planta $i\\in P$ al distribuidor $j\\in D$\n",
    "\n",
    "**Variables de decisión:**\n",
    "- $x_{ij}$: cantidad (en litros) de leche que van de la planta $i\\in P$ al distribuidor $j\\in D$\n",
    "\n",
    "**Modelo:**\n",
    "\n",
    "$$\n",
    "\\text{minimizar }  \\sum_{i\\in P}\\sum_{j\\in D}x_{ij}c_{ij} \\text{ (1)} \n",
    "$$\n",
    "\n",
    "Sujeto a,\n",
    "\\begin{align*}\n",
    "\\sum_{j\\in D}x_{ij} &\\le b_i, &&\\forall i\\in P; &(2)\\\\\n",
    "\\sum_{i\\in P}x_{ij} &\\ge t_j, &&\\forall j\\in D; &(3)\\\\\n",
    "x_{ij} & \\ge 0, &&\\forall i\\in P,j\\in D. &(4)\n",
    "\\end{align*}"
   ]
  },
  {
   "cell_type": "markdown",
   "metadata": {},
   "source": [
    "La función objetivo (1) minimiza los costos totales. Las restricción (2) describe que se debe respetar la oferta de las plantas. La restricción (3) describe que se debe satisfacer la demanda de los distribuidores. La restricción (4) describe la naturaleza de la variable $x_{ij}$. "
   ]
  },
  {
   "cell_type": "markdown",
   "metadata": {},
   "source": [
    "## Implementación\n",
    "**g.** Resuelva el modelo planteado utilizando la librería de PulP en Python. ¿Cuál es la solución\n",
    "óptima del problema? "
   ]
  },
  {
   "cell_type": "code",
   "execution_count": 1,
   "metadata": {},
   "outputs": [
    {
     "name": "stdout",
     "output_type": "stream",
     "text": [
      "Estado (optimizador): Optimal\n",
      "\n",
      "Transporte - Costos totales = $ 1224800.0\n",
      "\n"
     ]
    }
   ],
   "source": [
    "#se importa la libreria de PulP\n",
    "import pulp as lp\n",
    "\n",
    "#-----------------\n",
    "# Conjuntos\n",
    "#-----------------\n",
    "#Plantas\n",
    "P=[\"Planta 1\",\n",
    "   \"Planta 2\",\n",
    "   \"Planta 3\",\n",
    "   \"Planta 4\"]\n",
    "\n",
    "#Distribuidores\n",
    "D=[\"Distribuidor 1\",\n",
    "   \"Distribuidor 2\",\n",
    "   \"Distribuidor 3\",\n",
    "   \"Distribuidor 4\",\n",
    "   \"Distribuidor 5\",\n",
    "   \"Distribuidor 6\",\n",
    "   \"Distribuidor 7\",\n",
    "   \"Distribuidor 8\"]\n",
    "\n",
    "# Conjunto con todas las duplas (planta, distribuidor)\n",
    "P_x_D = [(planta, distribuidor) for planta in P for distribuidor in D] \n",
    "\n",
    "#-----------------\n",
    "# Parámetros\n",
    "#-----------------\n",
    "b={#planta: oferta de la planta i\n",
    "   \"Planta 1\":1500,\n",
    "   \"Planta 2\":1200,\n",
    "   \"Planta 3\":1400,\n",
    "   \"Planta 4\":1000} \n",
    "\n",
    "t={#distribuidor: demanda del distribuidor j\n",
    "   \"Distribuidor 1\":930,\n",
    "   \"Distribuidor 2\":600,\n",
    "   \"Distribuidor 3\":460,\n",
    "   \"Distribuidor 4\":610,\n",
    "   \"Distribuidor 5\":830,\n",
    "   \"Distribuidor 6\":460,\n",
    "   \"Distribuidor 7\":640,\n",
    "   \"Distribuidor 8\":240} \n",
    "\n",
    "c={#(planta, distribuidor): costo de envio de un litro de leche desde la planta i al distribuidor j\n",
    "   (\"Planta 1\",\"Distribuidor 1\"):650,\n",
    "   (\"Planta 1\",\"Distribuidor 2\"):125,\n",
    "   (\"Planta 1\",\"Distribuidor 3\"):1200,\n",
    "   (\"Planta 1\",\"Distribuidor 4\"):340,\n",
    "   (\"Planta 1\",\"Distribuidor 5\"):150,\n",
    "   (\"Planta 1\",\"Distribuidor 6\"):260,\n",
    "   (\"Planta 1\",\"Distribuidor 7\"):350,\n",
    "   (\"Planta 1\",\"Distribuidor 8\"):800,\n",
    "   (\"Planta 2\",\"Distribuidor 1\"):250,\n",
    "   (\"Planta 2\",\"Distribuidor 2\"):200,\n",
    "   (\"Planta 2\",\"Distribuidor 3\"):250,\n",
    "   (\"Planta 2\",\"Distribuidor 4\"):600,\n",
    "   (\"Planta 2\",\"Distribuidor 5\"):150,\n",
    "   (\"Planta 2\",\"Distribuidor 6\"):950,\n",
    "   (\"Planta 2\",\"Distribuidor 7\"):1050,\n",
    "   (\"Planta 2\",\"Distribuidor 8\"):1000,\n",
    "   (\"Planta 3\",\"Distribuidor 1\"):600,\n",
    "   (\"Planta 3\",\"Distribuidor 2\"):350,\n",
    "   (\"Planta 3\",\"Distribuidor 3\"):400,\n",
    "   (\"Planta 3\",\"Distribuidor 4\"):260,\n",
    "   (\"Planta 3\",\"Distribuidor 5\"):150,\n",
    "   (\"Planta 3\",\"Distribuidor 6\"):300,\n",
    "   (\"Planta 3\",\"Distribuidor 7\"):450,\n",
    "   (\"Planta 3\",\"Distribuidor 8\"):600,\n",
    "   (\"Planta 4\",\"Distribuidor 1\"):450,\n",
    "   (\"Planta 4\",\"Distribuidor 2\"):800,\n",
    "   (\"Planta 4\",\"Distribuidor 3\"):650,\n",
    "   (\"Planta 4\",\"Distribuidor 4\"):250,\n",
    "   (\"Planta 4\",\"Distribuidor 5\"):340,\n",
    "   (\"Planta 4\",\"Distribuidor 6\"):700,\n",
    "   (\"Planta 4\",\"Distribuidor 7\"):600,\n",
    "   (\"Planta 4\",\"Distribuidor 8\"):620} \n",
    "\n",
    "#-------------------------------------\n",
    "# Creación del objeto problema en PuLP\n",
    "#-------------------------------------\n",
    "#Crea el problema para cargarlo con la instancia \n",
    "problema=lp.LpProblem(\"Transporte\",lp.LpMinimize)\n",
    "\n",
    "#-----------------------------\n",
    "# Variables de Decisión\n",
    "#-----------------------------\n",
    "x=lp.LpVariable.dicts('x',P_x_D,lowBound=0,cat='Continuous') #litros de leche que van de la planta i al distribuidor j; aca se añade de una vez la naturaleza de las variables\n",
    "\n",
    "#-----------------------------\n",
    "# Función objetivo\n",
    "#-----------------------------\n",
    "#Crea la expresión de minimizacion de costos\n",
    "problema+=lp.lpSum(x[i,j]*c[i,j] for i in P for j in D), \"Costos Totales\"\n",
    "\n",
    "#-----------------------------\n",
    "# Restricciones\n",
    "#-----------------------------\n",
    "#sum(j in D)x_ij <= b_i forall i in P\n",
    "for i in P:\n",
    "    problema+= lp.lpSum(x[i,j] for j in D) <= b[i], \"Oferta de la planta \"+i   #se respeta la oferta de cada planta \n",
    "\n",
    "#sum(i in P)x_ij >= t_j forall j in D\n",
    "for j in D:\n",
    "    problema+= lp.lpSum(x[i,j] for i in P) >= t[j], \"Demanda del distribuidor \"+j #se satisface la demanda de cada distribuidor \n",
    "    \n",
    "#-----------------------------\n",
    "# Imprimir formato LP\n",
    "#-----------------------------\n",
    "#Escribe el problema en un archivo con formato LP \n",
    "problema.writeLP(\"Transporte.lp\")\n",
    "\n",
    "#-----------------------------\n",
    "# Invocar el optimizador\n",
    "#-----------------------------\n",
    "#Optimizar el modelo con CBC (default de PuLP)\n",
    "problema.solve()\n",
    "\n",
    "#-----------------------------\n",
    "#    Imprimir resultados\n",
    "#-----------------------------\n",
    "#Imprimir estado final del optimizador\n",
    "print(\"Estado (optimizador):\", lp.LpStatus[problema.status],end='\\n')\n",
    "\n",
    "#Valor óptimo del portafolio de Petroco    \n",
    "print(\"\\nTransporte - Costos totales = $\", round(lp.value(problema.objective),2))\n",
    "print()\n"
   ]
  },
  {
   "cell_type": "markdown",
   "metadata": {},
   "source": [
    "## Visualización de resultados"
   ]
  },
  {
   "cell_type": "code",
   "execution_count": 3,
   "metadata": {},
   "outputs": [],
   "source": [
    "#Coordenadas de las plantas\n",
    "coordenadasPlantas={#planta: (x, y)\n",
    "   \"Planta 1\":(9,12),\n",
    "   \"Planta 2\":(7,6),\n",
    "   \"Planta 3\":(5,14),\n",
    "   \"Planta 4\":(2.5,10.5)}\n",
    "\n",
    "#Coordenadas de los distribuidores\n",
    "coordenadasDistribuidores={#distribuidor: (x, y)\n",
    "                           \"Distribuidor 1\":(5.5,9),\n",
    "                           \"Distribuidor 2\":(8,10),\n",
    "                           \"Distribuidor 3\":(5,8),\n",
    "                           \"Distribuidor 4\":(6,10),\n",
    "                           \"Distribuidor 5\":(7,10),\n",
    "                           \"Distribuidor 6\":(7.5,15),\n",
    "                           \"Distribuidor 7\":(7,17),\n",
    "                           \"Distribuidor 8\":(1,15)}\n",
    "#Se guarda la solución en un vector\n",
    "xSol={(i,j):x[i,j].value() for i in P for j in D}\n",
    "\n"
   ]
  },
  {
   "cell_type": "code",
   "execution_count": 4,
   "metadata": {},
   "outputs": [],
   "source": [
    "#se importa la libreria que utilizará para la visualización\n",
    "import matplotlib.pyplot as plt\n",
    "\n",
    "#función para pintar las plantas\n",
    "def pintarPlantas(pPlantas,pAx):\n",
    "    xP=[i for (i,j) in pPlantas.values()]\n",
    "    yP=[j for (i,j) in pPlantas.values()]\n",
    "    pAx.scatter(xP,yP,c='green',marker='s',s=200,zorder=2)\n",
    "    return pAx\n",
    "\n",
    "#función para pintar los distribuidores\n",
    "def pintarDistribuidores(pDistribuidores,pAx):\n",
    "    xD=[i for (i,j) in pDistribuidores.values()]\n",
    "    yD=[j for (i,j) in pDistribuidores.values()]\n",
    "    pAx.scatter(xD,yD,c='red',s=100,zorder=2)\n",
    "    return pAx\n",
    "\n",
    "#función para pintar la solución\n",
    "def pintarSolución(pSolucion,pPlantas,pDistribuidores,pAx):\n",
    "    for (i,j),val in pSolucion.items():\n",
    "        if val>0:\n",
    "            pAx.plot([pPlantas[i][0],pDistribuidores[j][0]],[pPlantas[i][1],pDistribuidores[j][1]],c='orange',zorder=1,label=val)\n",
    "    return pAx\n",
    "\n",
    "#función para pintar los numeros de cada planta\n",
    "def pintarNumPlantas(pPlantas,pAx):\n",
    "    for i,pos in pPlantas.items():\n",
    "        pAx.text(pos[0]-0.08,pos[1]-0.12,i[-1],fontsize=12,color='white')\n",
    "    return ax\n",
    "\n",
    "#función para pintar los numeros de cada distribuidor\n",
    "def pintarNumDistribuidores(pDistribuidores,pAx):\n",
    "    for i,pos in pDistribuidores.items():\n",
    "        pAx.text(pos[0]-0.06,pos[1]-0.12,i[-1],fontsize=8,color='black')\n",
    "    return pAx"
   ]
  },
  {
   "cell_type": "code",
   "execution_count": 5,
   "metadata": {},
   "outputs": [
    {
     "data": {
      "image/png": "[encoded data removed]",
      "text/plain": [
       "<Figure size 720x720 with 1 Axes>"
      ]
     },
     "metadata": {},
     "output_type": "display_data"
    }
   ],
   "source": [
    "fig, ax = plt.subplots(figsize=(10,10))\n",
    "\n",
    "#se definen la dimensión de los ejes y se borran los labels de los ejes\n",
    "ax.set_xlim([0,10])\n",
    "ax.set_ylim([2,20])\n",
    "ax.set_xticks([])\n",
    "ax.set_yticks([])\n",
    "\n",
    "ax=pintarSolución(xSol,coordenadasPlantas,coordenadasDistribuidores,ax)\n",
    "ax=pintarDistribuidores(coordenadasDistribuidores,ax)\n",
    "ax=pintarNumDistribuidores(coordenadasDistribuidores,ax)\n",
    "ax=pintarPlantas(coordenadasPlantas,ax)\n",
    "ax=pintarNumPlantas(coordenadasPlantas,ax)"
   ]
  },
  {
   "cell_type": "markdown",
   "metadata": {},
   "source": [
    "## Créditos\n",
    "\n",
    "Desarrollo: Juan Felipe Rengifo M<br>\n",
    "Fecha: 20/09/2020"
   ]
  }
 ],
 "metadata": {
  "kernelspec": {
   "display_name": "Python 3",
   "language": "python",
   "name": "python3"
  },
  "language_info": {
   "codemirror_mode": {
    "name": "ipython",
    "version": 3
   },
   "file_extension": ".py",
   "mimetype": "text/x-python",
   "name": "python",
   "nbconvert_exporter": "python",
   "pygments_lexer": "ipython3",
   "version": "3.7.6"
  }
 },
 "nbformat": 4,
 "nbformat_minor": 4
}
