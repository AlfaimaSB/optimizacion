{
  "cells": [
    {
      "cell_type": "markdown",
      "source": "# Asignación de tareas",
      "metadata": {
        "cell_id": "00000-e35a529f-0158-476f-be13-ed528ba0abee",
        "deepnote_cell_type": "markdown"
      }
    },
    {
      "cell_type": "markdown",
      "source": "<b><i style=\"font-size:13px\">Tags: </i></b><i style=\"font-size:11px\">Asignación, Variable binaria, Recurso</i>",
      "metadata": {
        "cell_id": "00001-b156b05b-7548-4809-a3ce-8d9a6688900d",
        "deepnote_cell_type": "markdown"
      }
    },
    {
      "cell_type": "markdown",
      "source": "## Enunciado\nEl equipo de Principios de Optimización se encuentra realizando un rediseño estructural del curso. Dado el largo trabajo que este rediseño implica, los integrantes del equipo han definido diez responsabilidades que deben ser ejecutadas. Para esto, el equipo debe decidir cuál es la mejor asignación de responsabilidades a los diferentes integrantes del equipo para el periodo intersemestral. \n<br>\n<br>\nCada uno de los cinco miembros del equipo está en la capacidad de encargarse de cualquiera de estas diez responsabilidades, sin embargo, debido sus preferencias y habilidades, cada uno ha determinado el tiempo (en horas) que le tomará realizar cada una de las responsabilidades que le pueden ser asignadas. Además, cada uno de ellos cuenta con una disponibilidad horaria de acuerdo con su contrato y sus demás compromisos personales. La información descrita anteriormente se encuentra disponible en la Tabla 1. ",
      "metadata": {
        "cell_id": "00002-9c35ac49-4ea1-4c68-a02a-2a74ae19595d",
        "deepnote_cell_type": "markdown"
      }
    },
    {
      "cell_type": "markdown",
      "source": "<p style=\"text-align: center;\"><b>Tabla 1. Tiempos de realización y disponibilidad (en horas)</b></p>\n\n<table class=\"egt\">\n    \n  <tr>  \n    <th></th> \n    <th colspan=\"5\";style=\"text-align:center\">Integrantes</th>\n  </tr>\n    \n  <tr>\n    <th style=\"text-align:center\">Responsabilidades</th>\n    <th style=\"text-align:center\">1</th>\n    <th style=\"text-align:center\">2</th>\n    <th style=\"text-align:center\">3</th>\n    <th style=\"text-align:center\">4</th>\n    <th style=\"text-align:center\">5</th>\n  </tr>\n\n  <tr>\n    <td style=\"text-align:left\"><i>Diseño parciales</i></td>\n    <td style=\"text-align:center\">25</td>\n    <td style=\"text-align:center\">75</td>\n    <td style=\"text-align:center\">125</td>\n    <td style=\"text-align:center\">200</td>\n    <td style=\"text-align:center\">250</td>\n  </tr>\n    \n  <tr>\n    <td style=\"text-align:left\"><i>Diseño tareas</i></td>\n    <td style=\"text-align:center\">75</td>\n    <td style=\"text-align:center\">25</td>\n    <td style=\"text-align:center\">225</td>\n    <td style=\"text-align:center\">250</td>\n    <td style=\"text-align:center\">200</td>\n  </tr>\n    \n  <tr>\n    <td style=\"text-align:left\"><i>Diseño y grabación videos magistrales</i></td>\n    <td style=\"text-align:center\">50</td>\n    <td style=\"text-align:center\">125</td>\n    <td style=\"text-align:center\">100</td>\n    <td style=\"text-align:center\">175</td>\n    <td style=\"text-align:center\">225</td>\n  </tr>\n    \n  <tr>\n    <td style=\"text-align:left\"><i>Diseño talleres magistrales</i></td>\n    <td style=\"text-align:center\">100</td>\n    <td style=\"text-align:center\">50</td>\n    <td style=\"text-align:center\">250</td>\n    <td style=\"text-align:center\">225</td>\n    <td style=\"text-align:center\">175</td>\n  </tr>\n    \n  <tr>\n    <td style=\"text-align:left\"><i>Diseño jupyter notebooks </i></td>\n    <td style=\"text-align:center\">125</td>\n    <td style=\"text-align:center\">150</td>\n    <td style=\"text-align:center\">25</td>\n    <td style=\"text-align:center\">150</td>\n    <td style=\"text-align:center\">50</td>\n  </tr>\n    \n  <tr>\n    <td style=\"text-align:left\"><i>Grabación videos trabajo asistido</i></td>\n    <td style=\"text-align:center\">175</td>\n    <td style=\"text-align:center\">175</td>\n    <td style=\"text-align:center\">50</td>\n    <td style=\"text-align:center\">100</td>\n    <td style=\"text-align:center\">75</td>\n  </tr>\n    \n  <tr>\n    <td style=\"text-align:left\"><i>Edición videos trabajo asistido </i></td>\n    <td style=\"text-align:center\">225</td>\n    <td style=\"text-align:center\">200</td>\n    <td style=\"text-align:center\">175</td>\n    <td style=\"text-align:center\">25</td>\n    <td style=\"text-align:center\">150</td>\n  </tr>\n    \n  <tr>\n    <td style=\"text-align:left\"><i>Diseño talleres trabajo asistido </i></td>\n    <td style=\"text-align:center\">150</td>\n    <td style=\"text-align:center\">100</td>\n    <td style=\"text-align:center\">75</td>\n    <td style=\"text-align:center\">125</td>\n    <td style=\"text-align:center\">100</td>\n  </tr>\n    \n  <tr>\n    <td style=\"text-align:left\"><i>Diseño y grabación videos PulP </i></td>\n    <td style=\"text-align:center\">200</td>\n    <td style=\"text-align:center\">225</td>\n    <td style=\"text-align:center\">150</td>\n    <td style=\"text-align:center\">75</td>\n    <td style=\"text-align:center\">50</td>\n  </tr>\n    \n  <tr>\n    <td style=\"text-align:left\"><i>Edición videos PulP </i></td>\n    <td style=\"text-align:center\">250</td>\n    <td style=\"text-align:center\">250</td>\n    <td style=\"text-align:center\">200</td>\n    <td style=\"text-align:center\">50</td>\n    <td style=\"text-align:center\">125</td>\n  </tr>\n    \n  <tr>\n    <td style=\"text-align:right\"><b>Disponibilidad </b></td>\n    <td style=\"text-align:center\">200</td>\n    <td style=\"text-align:center\">150</td>\n    <td style=\"text-align:center\">150</td>\n    <td style=\"text-align:center\">100</td>\n    <td style=\"text-align:center\">75</td>\n  </tr>\n\n\n</table>",
      "metadata": {
        "cell_id": "00003-910fc5c0-8eed-4f84-a664-26f7dbb362b0",
        "deepnote_cell_type": "markdown"
      }
    },
    {
      "cell_type": "markdown",
      "source": "<br>\nAparte de hacer un curso agradable y productivo para cada uno de los estudiantes, el equipo del curso se siente motivado y a gusto en el proceso de rediseño. Por lo anterior, cada uno ha definido el índice de preferencia asociado a realizar cada una de las responsabilidades. Este índice se encuentra en una escala de 1 a 10, correspondiendo 1 y 10 a la responsabilidad menos deseada y a la preferida, respectivamente. En la Tabla 2 se presenta esta información. ",
      "metadata": {
        "cell_id": "00004-857397f9-ec42-4316-8f9d-109b47a32759",
        "deepnote_cell_type": "markdown"
      }
    },
    {
      "cell_type": "markdown",
      "source": "<p style=\"text-align: center;\"><b>Tabla 2. Preferencias</b></p>\n\n<table class=\"egt\">\n    \n  <tr>  \n    <th></th> \n    <th colspan=\"5\";style=\"text-align:center\">Integrantes</th>\n  </tr>\n    \n  <tr>\n    <th style=\"text-align:center\">Responsabilidades</th>\n    <th style=\"text-align:center\">1</th>\n    <th style=\"text-align:center\">2</th>\n    <th style=\"text-align:center\">3</th>\n    <th style=\"text-align:center\">4</th>\n    <th style=\"text-align:center\">5</th>\n  </tr>\n\n  <tr>\n    <td style=\"text-align:left\"><i>Diseño parciales</i></td>\n    <td style=\"text-align:center\">1</td>\n    <td style=\"text-align:center\">3</td>\n    <td style=\"text-align:center\">5</td>\n    <td style=\"text-align:center\">8</td>\n    <td style=\"text-align:center\">10</td>\n  </tr>\n    \n  <tr>\n    <td style=\"text-align:left\"><i>Diseño tareas</i></td>\n    <td style=\"text-align:center\">3</td>\n    <td style=\"text-align:center\">1</td>\n    <td style=\"text-align:center\">9</td>\n    <td style=\"text-align:center\">10</td>\n    <td style=\"text-align:center\">8</td>\n  </tr>\n    \n  <tr>\n    <td style=\"text-align:left\"><i>Diseño y grabación videos magistrales</i></td>\n    <td style=\"text-align:center\">2</td>\n    <td style=\"text-align:center\">5</td>\n    <td style=\"text-align:center\">4</td>\n    <td style=\"text-align:center\">7</td>\n    <td style=\"text-align:center\">9</td>\n  </tr>\n    \n  <tr>\n    <td style=\"text-align:left\"><i>Diseño talleres magistrales</i></td>\n    <td style=\"text-align:center\">4</td>\n    <td style=\"text-align:center\">2</td>\n    <td style=\"text-align:center\">10</td>\n    <td style=\"text-align:center\">9</td>\n    <td style=\"text-align:center\">7</td>\n  </tr>\n    \n  <tr>\n    <td style=\"text-align:left\"><i>Diseño jupyter notebooks </i></td>\n    <td style=\"text-align:center\">5</td>\n    <td style=\"text-align:center\">6</td>\n    <td style=\"text-align:center\">1</td>\n    <td style=\"text-align:center\">6</td>\n    <td style=\"text-align:center\">2</td>\n  </tr>\n    \n  <tr>\n    <td style=\"text-align:left\"><i>Grabación videos trabajo asistido</i></td>\n    <td style=\"text-align:center\">7</td>\n    <td style=\"text-align:center\">7</td>\n    <td style=\"text-align:center\">2</td>\n    <td style=\"text-align:center\">4</td>\n    <td style=\"text-align:center\">3</td>\n  </tr>\n    \n  <tr>\n    <td style=\"text-align:left\"><i>Edición videos trabajo asistido </i></td>\n    <td style=\"text-align:center\">9</td>\n    <td style=\"text-align:center\">8</td>\n    <td style=\"text-align:center\">7</td>\n    <td style=\"text-align:center\">1</td>\n    <td style=\"text-align:center\">6</td>\n  </tr>\n    \n  <tr>\n    <td style=\"text-align:left\"><i>Diseño talleres trabajo asistido </i></td>\n    <td style=\"text-align:center\">6</td>\n    <td style=\"text-align:center\">4</td>\n    <td style=\"text-align:center\">3</td>\n    <td style=\"text-align:center\">5</td>\n    <td style=\"text-align:center\">4</td>\n  </tr>\n    \n  <tr>\n    <td style=\"text-align:left\"><i>Diseño y grabación videos PulP </i></td>\n    <td style=\"text-align:center\">8</td>\n    <td style=\"text-align:center\">9</td>\n    <td style=\"text-align:center\">6</td>\n    <td style=\"text-align:center\">3</td>\n    <td style=\"text-align:center\">1</td>\n  </tr>\n    \n  <tr>\n    <td style=\"text-align:left\"><i>Edición videos PulP </i></td>\n    <td style=\"text-align:center\">10</td>\n    <td style=\"text-align:center\">10</td>\n    <td style=\"text-align:center\">8</td>\n    <td style=\"text-align:center\">2</td>\n    <td style=\"text-align:center\">5</td>\n  </tr>\n\n</table>",
      "metadata": {
        "cell_id": "00005-0199add8-a167-43a4-80d1-5dd17ce8df04",
        "deepnote_cell_type": "markdown"
      }
    },
    {
      "cell_type": "markdown",
      "source": "<br>\nEl equipo de Principios de Optimización le ha pedido a usted que plantee y resuelva un modelo matemático que represente la situación. Para esto usted debe seguir los siguientes pasos: ",
      "metadata": {
        "cell_id": "00006-cfbfbd99-e6c6-4633-ae23-26b62170a127",
        "deepnote_cell_type": "markdown"
      }
    },
    {
      "cell_type": "markdown",
      "source": "## Formulación\n**a.** Escriba lo(s) conjunto(s), parámetro(s) y variable(s) de decisión que utilizará en el modelo.</p>",
      "metadata": {
        "cell_id": "00007-3812173e-5490-4cb6-b955-e2ba7e68e3fa",
        "deepnote_cell_type": "markdown"
      }
    },
    {
      "cell_type": "markdown",
      "source": "**b.** Escriba la(s) restricción(es) lineal(es) que describe(n) que cada responsabilidad se debe asignar a una persona.  \n",
      "metadata": {
        "cell_id": "00008-cc4e618e-cbb5-4f21-8a7c-dd8a437c3734",
        "deepnote_cell_type": "markdown"
      }
    },
    {
      "cell_type": "markdown",
      "source": "**c.** Escriba la(s) restricción(es) lineal(es) que describe(n) que se debe respetar la limitación de tiempo de cada integrante. \n",
      "metadata": {
        "cell_id": "00009-f112787c-ff5d-47ae-92d5-fb348917b6a5",
        "deepnote_cell_type": "markdown"
      }
    },
    {
      "cell_type": "markdown",
      "source": "**d.** Escriba la(s) restricción(es) que describe(n) matemáticamente el tipo de variable(s) que está utilizando dentro del modelo. \n",
      "metadata": {
        "cell_id": "00010-07043ae3-a610-4e4b-a135-7b741659d6df",
        "deepnote_cell_type": "markdown"
      }
    },
    {
      "cell_type": "markdown",
      "source": "**e.** Escriba la función objetivo. ",
      "metadata": {
        "cell_id": "00011-21f5728d-9561-4cca-adda-2de12ef5d5a4",
        "deepnote_cell_type": "markdown"
      }
    },
    {
      "cell_type": "markdown",
      "source": "## Implementación\n**f.** Resuelva el modelo planteado utilizando la librería de PulP en Python. Reporte sus resultados de una manera amigable.",
      "metadata": {
        "cell_id": "00012-7cf43f33-5f13-4f43-8fc4-c6be09a7bb19",
        "deepnote_cell_type": "markdown"
      }
    },
    {
      "cell_type": "code",
      "metadata": {
        "cell_id": "00013-22126176-1819-4ec7-b4ed-386c5fa97b2a",
        "deepnote_cell_type": "code"
      },
      "source": "",
      "execution_count": null,
      "outputs": []
    },
    {
      "cell_type": "markdown",
      "source": "## Créditos\n\nEquipo Principios de Optimización<br>\nDesarrollo: Jorge Huertas, David Corredor<br>\nFecha: 20/09/2020",
      "metadata": {
        "cell_id": "00014-81ecb7b2-10db-482e-9ae2-ab14c804ba31",
        "deepnote_cell_type": "markdown"
      }
    },
    {
      "cell_type": "markdown",
      "source": "<a style='text-decoration:none;line-height:16px;display:flex;color:#5B5B62;padding:10px;justify-content:end;' href='https://deepnote.com?utm_source=created-in-deepnote-cell&projectId=914d7bbd-157c-41c4-894f-bc04a04a39ce' target=\"_blank\">\n<img style='display:inline;max-height:16px;margin:0px;margin-right:7.5px;' src='data:image/svg+xml;base64,PD94bWwgdmVyc2lvbj0iMS4wIiBlbmNvZGluZz0iVVRGLTgiPz4KPHN2ZyB3aWR0aD0iODBweCIgaGVpZ2h0PSI4MHB4IiB2aWV3Qm94PSIwIDAgODAgODAiIHZlcnNpb249IjEuMSIgeG1sbnM9Imh0dHA6Ly93d3cudzMub3JnLzIwMDAvc3ZnIiB4bWxuczp4bGluaz0iaHR0cDovL3d3dy53My5vcmcvMTk5OS94bGluayI+CiAgICA8IS0tIEdlbmVyYXRvcjogU2tldGNoIDU0LjEgKDc2NDkwKSAtIGh0dHBzOi8vc2tldGNoYXBwLmNvbSAtLT4KICAgIDx0aXRsZT5Hcm91cCAzPC90aXRsZT4KICAgIDxkZXNjPkNyZWF0ZWQgd2l0aCBTa2V0Y2guPC9kZXNjPgogICAgPGcgaWQ9IkxhbmRpbmciIHN0cm9rZT0ibm9uZSIgc3Ryb2tlLXdpZHRoPSIxIiBmaWxsPSJub25lIiBmaWxsLXJ1bGU9ImV2ZW5vZGQiPgogICAgICAgIDxnIGlkPSJBcnRib2FyZCIgdHJhbnNmb3JtPSJ0cmFuc2xhdGUoLTEyMzUuMDAwMDAwLCAtNzkuMDAwMDAwKSI+CiAgICAgICAgICAgIDxnIGlkPSJHcm91cC0zIiB0cmFuc2Zvcm09InRyYW5zbGF0ZSgxMjM1LjAwMDAwMCwgNzkuMDAwMDAwKSI+CiAgICAgICAgICAgICAgICA8cG9seWdvbiBpZD0iUGF0aC0yMCIgZmlsbD0iIzAyNjVCNCIgcG9pbnRzPSIyLjM3NjIzNzYyIDgwIDM4LjA0NzY2NjcgODAgNTcuODIxNzgyMiA3My44MDU3NTkyIDU3LjgyMTc4MjIgMzIuNzU5MjczOSAzOS4xNDAyMjc4IDMxLjY4MzE2ODMiPjwvcG9seWdvbj4KICAgICAgICAgICAgICAgIDxwYXRoIGQ9Ik0zNS4wMDc3MTgsODAgQzQyLjkwNjIwMDcsNzYuNDU0OTM1OCA0Ny41NjQ5MTY3LDcxLjU0MjI2NzEgNDguOTgzODY2LDY1LjI2MTk5MzkgQzUxLjExMjI4OTksNTUuODQxNTg0MiA0MS42NzcxNzk1LDQ5LjIxMjIyODQgMjUuNjIzOTg0Niw0OS4yMTIyMjg0IEMyNS40ODQ5Mjg5LDQ5LjEyNjg0NDggMjkuODI2MTI5Niw0My4yODM4MjQ4IDM4LjY0NzU4NjksMzEuNjgzMTY4MyBMNzIuODcxMjg3MSwzMi41NTQ0MjUgTDY1LjI4MDk3Myw2Ny42NzYzNDIxIEw1MS4xMTIyODk5LDc3LjM3NjE0NCBMMzUuMDA3NzE4LDgwIFoiIGlkPSJQYXRoLTIyIiBmaWxsPSIjMDAyODY4Ij48L3BhdGg+CiAgICAgICAgICAgICAgICA8cGF0aCBkPSJNMCwzNy43MzA0NDA1IEwyNy4xMTQ1MzcsMC4yNTcxMTE0MzYgQzYyLjM3MTUxMjMsLTEuOTkwNzE3MDEgODAsMTAuNTAwMzkyNyA4MCwzNy43MzA0NDA1IEM4MCw2NC45NjA0ODgyIDY0Ljc3NjUwMzgsNzkuMDUwMzQxNCAzNC4zMjk1MTEzLDgwIEM0Ny4wNTUzNDg5LDc3LjU2NzA4MDggNTMuNDE4MjY3Nyw3MC4zMTM2MTAzIDUzLjQxODI2NzcsNTguMjM5NTg4NSBDNTMuNDE4MjY3Nyw0MC4xMjg1NTU3IDM2LjMwMzk1NDQsMzcuNzMwNDQwNSAyNS4yMjc0MTcsMzcuNzMwNDQwNSBDMTcuODQzMDU4NiwzNy43MzA0NDA1IDkuNDMzOTE5NjYsMzcuNzMwNDQwNSAwLDM3LjczMDQ0MDUgWiIgaWQ9IlBhdGgtMTkiIGZpbGw9IiMzNzkzRUYiPjwvcGF0aD4KICAgICAgICAgICAgPC9nPgogICAgICAgIDwvZz4KICAgIDwvZz4KPC9zdmc+' > </img>\nCreated in <span style='font-weight:600;margin-left:4px;'>Deepnote</span></a>",
      "metadata": {
        "tags": [],
        "created_in_deepnote_cell": true,
        "deepnote_cell_type": "markdown"
      }
    }
  ],
  "nbformat": 4,
  "nbformat_minor": 4,
  "metadata": {
    "kernelspec": {
      "display_name": "Python 3",
      "language": "python",
      "name": "python3"
    },
    "language_info": {
      "codemirror_mode": {
        "name": "ipython",
        "version": 3
      },
      "file_extension": ".py",
      "mimetype": "text/x-python",
      "name": "python",
      "nbconvert_exporter": "python",
      "pygments_lexer": "ipython3",
      "version": "3.7.6"
    },
    "deepnote_notebook_id": "a55b34a6-6f35-4915-82a2-34045995bc64",
    "deepnote": {},
    "deepnote_execution_queue": []
  }
}