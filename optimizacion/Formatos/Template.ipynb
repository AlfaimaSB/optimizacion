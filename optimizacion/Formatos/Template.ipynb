{
 "cells": [
  {
   "cell_type": "markdown",
   "id": "specific-boulder",
   "metadata": {},
   "source": [
    "# Título \n",
    "\n",
    "\n",
    "<!--  \n",
    "Si el notebook es de tipo solución, visualización, entre otros, se pone un guion después del título y luego el tipo. Ejemplo:\n",
    "# Título - Solución\n",
    "-->"
   ]
  },
  {
   "cell_type": "markdown",
   "id": "written-elephant",
   "metadata": {},
   "source": [
    "<b><i style=\"font-size:13px\">Tags: </i></b><i style=\"font-size:11px\">Tag 1, Tag 2, ...</i>\n",
    "\n",
    "<!--  \n",
    "Basarse en el arcchivo de Excel \"Matriz de conceptos y casos.xlsx\".\n",
    "-->"
   ]
  },
  {
   "cell_type": "markdown",
   "id": "annoying-circus",
   "metadata": {},
   "source": [
    "## Enunciado\n",
    "\n",
    "<!--  \n",
    "Conjuntos: $Conjunto$\n",
    "Indices: $indice \\in Conjunto$\n",
    "Parámetros/variables: $parametro_{ij}$\n",
    "Tablas: En HTML y los textos de elementos del conjunto en la parte izquierda con alineado a la izquierda. Además a cada tabla se le pone un nombre y su respectiva descripción.\n",
    "-->"
   ]
  },
  {
   "cell_type": "markdown",
   "id": "linear-shadow",
   "metadata": {},
   "source": [
    "## Formulación\n",
    "\n",
    "<!--  \n",
    "Enumeración alfabetica y en negrilla. En caso de que hayan subliterales, estos van identados, en negrilla y se utiliza \"i.\", \"ii.\", ... \n",
    "Ejemplo:\n",
    "**a.**\n",
    "    **i.**\n",
    "    **ii.**\n",
    "**b.**\n",
    "-->"
   ]
  },
  {
   "cell_type": "markdown",
   "id": "loaded-equipment",
   "metadata": {},
   "source": [
    "### Variables de decisión"
   ]
  },
  {
   "cell_type": "markdown",
   "id": "north-language",
   "metadata": {},
   "source": [
    "### Restricciones"
   ]
  },
  {
   "cell_type": "markdown",
   "id": "descending-testament",
   "metadata": {},
   "source": [
    "### Naturaleza de las Variables"
   ]
  },
  {
   "cell_type": "markdown",
   "id": "voluntary-couple",
   "metadata": {},
   "source": [
    "### Función objetivo"
   ]
  },
  {
   "cell_type": "markdown",
   "id": "configured-protection",
   "metadata": {},
   "source": [
    "## Formulación matemática completa\n",
    "\n",
    "**Conjuntos:**\n",
    "\n",
    "- $Conjunto1$: descripción conjunto 1.\n",
    "- $Conjunto2$: descripción conjunto 2. \n",
    "\n",
    "**Parámetros:**\n",
    "\n",
    "- $parametro1_{i}$: descripción parámetro 1.\n",
    "- $parametro2_{ij}$: descripción parámetro 2.\n",
    "\n",
    "**Variables de decisión:**\n",
    "\n",
    "- $variable1_{i}$: descripción variable 1.\n",
    "- $variableBinaria_{ij}: \\begin{cases}1\\text{,}&\\text{ condición}\\text{;}\\\\ 0\\text{,} & \\text{ d.l.c.}  \\end{cases}$\n",
    "\n",
    "**Modelo:**\n",
    "\n",
    "<!--  \n",
    "Lo que sigue es un ejemplo.\n",
    "-->\n",
    "\n",
    "$$\n",
    "\\text{maximizar }  \\sum_{k\\in K}\\sum_{i\\in R}p_kx_{ki} \\text{ (1)} \n",
    "$$\n",
    "\n",
    "sujeto a,\n",
    "\n",
    "$$\n",
    "\\begin{align*}\n",
    "x_{ki} &\\ge l_{ki}\\%\\sum_{j\\in R} x_{kj}, &&\\forall k\\in K,i\\in R; &(2)\\\\\n",
    "x_{ki} &\\le u_{ki}\\%\\sum_{j\\in R} x_{kj}, &&\\forall k\\in K,i\\in R; &(3)\\\\\n",
    "\\sum_{k\\in K} x_{ki} &\\le b_i, &&\\forall i\\in R; &(4)\\\\\n",
    "\\sum_{i\\in R} x_{ki} &\\ge d_k, &&\\forall k\\in K; &(5)\\\\\n",
    "x_{ki} & \\ge 0, &&\\forall k\\in K,i\\in R. &(6)\n",
    "\\end{align*}\n",
    "$$\n",
    "\n",
    "<!--  \n",
    "Luego de esta formulación completa se debe escribir un parrafo corto describiendo la función objetivo y las restricciones.\n",
    "-->"
   ]
  },
  {
   "cell_type": "markdown",
   "id": "geographic-header",
   "metadata": {},
   "source": [
    "## Implementación"
   ]
  },
  {
   "cell_type": "code",
   "execution_count": null,
   "id": "whole-trust",
   "metadata": {},
   "outputs": [],
   "source": [
    "# Se importa la librería de PulP\n",
    "import pulp as lp\n",
    "\n",
    "#-----------------\n",
    "# Conjuntos\n",
    "#-----------------\n",
    "\n",
    "#-----------------\n",
    "# Parámetros\n",
    "#-----------------\n",
    "\n",
    "#--------------------------------------------\n",
    "# Creación del objeto problema en PuLP\n",
    "#--------------------------------------------\n",
    "\n",
    "#-----------------------------\n",
    "# Variables de Decisión\n",
    "#-----------------------------\n",
    "\n",
    "#-----------------------------\n",
    "# Función objetivo\n",
    "#-----------------------------\n",
    "\n",
    "#-----------------------------\n",
    "# Restricciones\n",
    "#-----------------------------\n",
    "\n",
    "#-----------------------------\n",
    "# Imprimir formato LP\n",
    "#-----------------------------\n",
    "\n",
    "#-----------------------------\n",
    "# Invocar el optimizador\n",
    "#-----------------------------\n",
    "\n",
    "#-----------------------------\n",
    "# Imprimir resultados\n",
    "#-----------------------------"
   ]
  },
  {
   "cell_type": "markdown",
   "id": "hired-insulation",
   "metadata": {},
   "source": [
    "## Créditos\n",
    "\n",
    "Equipo Principios de Optimización<br>\n",
    "Autores: <!--Se define como autores a la(s) persona(s) que crearon el problema/enunciado.--><br>\n",
    "Desarrollo: <!--Se define como desarrolladores a la(s) persona(s) que crearon el notebook y la instancia que se implemento en el mismo.--><br>\n",
    "Última fecha de modificación: "
   ]
  }
 ],
 "metadata": {
  "kernelspec": {
   "display_name": "Python 3",
   "language": "python",
   "name": "python3"
  },
  "language_info": {
   "codemirror_mode": {
    "name": "ipython",
    "version": 3
   },
   "file_extension": ".py",
   "mimetype": "text/x-python",
   "name": "python",
   "nbconvert_exporter": "python",
   "pygments_lexer": "ipython3",
   "version": "3.7.9"
  }
 },
 "nbformat": 4,
 "nbformat_minor": 5
}
