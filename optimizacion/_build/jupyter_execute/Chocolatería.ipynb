{
 "cells": [
  {
   "cell_type": "markdown",
   "metadata": {},
   "source": [
    "# Chocolatería"
   ]
  },
  {
   "cell_type": "markdown",
   "metadata": {},
   "source": [
    "## Enunciado\n",
    "\n",
    "La chocolatería Perla Caribe es un pequeño emprendimiento que fabrica y comercializa chocolates artesanales con cacao de distintas variedades comprado directamente a agricultores locales. Actualmente producen dos tipos de chocolates: chocolate oscuro y chocolate blanco. Una unidad de cualquier tipo de chocolate pesa 60g. Una unidad de chocolate oscuro se vende a $\\$7,000$ COP y una unidad de chocolate blanco se vende a $\\$6,000$ COP. Los costos asociados a materia prima, mano de obra y demás costos operacionales equivalen a $\\$3,500$ COP por cada unidad de chocolate oscuro y $\\$2,000$ COP por cada unidad de chocolate blanco. \n",
    "\n",
    "La producción de estos chocolates requiere de dos ingredientes en común: manteca de cacao y azúcar. Por cada unidad de chocolate oscuro se requiere 6 g de manteca de cacao y 21 g de azúcar. Por cada unidad de chocolate blanco se requiere 22 g de manteca de cacao y 18 g de azúcar. Cada semana, la chocolatería Perla Caribe tiene disponible 12 kg de manteca de cacao y 20kg de azúcar. La demanda de chocolate oscuro es ilimitada, pero a lo sumo le demandan _ unidades de chocolate blanco por semana.\n",
    "\n",
    "La chocolatería Perla Caribe quiere maximizar su utilidad (ingresos menos costos). Formule un modelo matemático que represente la situación y que les permita cumplir con su objetivo. "
   ]
  },
  {
   "cell_type": "markdown",
   "metadata": {},
   "source": [
    "## Formulación\n",
    "\n",
    "**a.** Escriba término a término la(s) variable(s) de decisión que utilizará en el modelo. \n",
    "\\begin{align*}\n",
    "x_1: \\text{unidades de chocolate oscuro producidos cada semana} \\\\\n",
    "x_2: \\text{unidades de chocolate blanco producidos cada semana}\n",
    "\\end{align*}"
   ]
  },
  {
   "cell_type": "markdown",
   "metadata": {},
   "source": [
    "\n",
    "**b.** Escriba término a término la(s) restricción(es) lineal(es) y descríbala(s)\n",
    "\n",
    "Restricciones asociadas a la disponibilidad de recursos: \n",
    "\n",
    "\n",
    "\\begin{align*}\n",
    "6x_1 + 22x_2 \\leq 12,000\\\\\n",
    "21x_1 + 18x_2 \\leq 20,000\n",
    "\\end{align*}\n",
    "\n",
    "Restricciones asociadas a la demanda de productos: \n",
    "\n",
    "\\begin{align*}\n",
    "x_1 \\leq 10,000\n",
    "\\end{align*}\n",
    "\n",
    "Restricciones asociadas a tipo de variables: \n",
    "\n",
    "\\begin{align*}\n",
    "x_1 \\geq 0\\\\\n",
    "x_2 \\geq 0\n",
    "\\end{align*}"
   ]
  },
  {
   "cell_type": "markdown",
   "metadata": {},
   "source": [
    "**c.** Escriba término a término la función objetivo que maximiza la utilidad.\n",
    "\n",
    "$$\n",
    "\\text{maximizar }  (\\$7,000 - \\$3,500)x_1 + (\\$6,000-\\$2,000)x_2\n",
    "$$"
   ]
  },
  {
   "cell_type": "markdown",
   "metadata": {},
   "source": [
    "## Formulación matemática"
   ]
  },
  {
   "cell_type": "markdown",
   "metadata": {},
   "source": [
    "**Variables de decisión:**\n",
    "\n",
    "- $x_1$: unidades de chocolate oscuro producidos cada semana\n",
    "- $x_2$: unidades de chocolate blanco producidos cada semana\n",
    "\n",
    "\n",
    "**Modelo:**\n",
    "\n",
    "$$\n",
    "\\text{maximizar }  \\$3,500x_1 + \\$4,000x_2 \\text{ (1)} \n",
    "$$\n",
    "\n",
    "Sujeto a,\n",
    "\\begin{align*}\n",
    "6x_1 + 22x_2 &\\leq 12,000; &(2)\\\\\n",
    "21x_1 + 18x_2 &\\leq 20,000; &(3)\\\\\n",
    "x_2 &\\leq 10,000; &(4)\\\\\n",
    "x_1 &\\geq 0; &(5)\\\\\n",
    "x_2 & \\geq 0. &(6)\n",
    "\\end{align*}\n",
    "\n",
    "La función objetivo (1) maximiza las utilidades. Las restricciones (2) y (3) describen que se debe respetar la disponibilidad de manteca de cacao y azúcar, respectivamente. La restricción (4) garantiza no se sobrepase la demanda máxima de chocolate blanco. La restricciones (5) y (6) describen la naturaleza de la variables $x_1$ y $x_2$, respectivamente. "
   ]
  },
  {
   "cell_type": "markdown",
   "metadata": {},
   "source": [
    "## Implementación\n",
    "\n",
    "**e.** Resuelva el modelo planteado utilizando la librería de PulP en Python. ¿Cuál es la solución\n",
    "óptima del problema? "
   ]
  },
  {
   "cell_type": "code",
   "execution_count": 30,
   "metadata": {},
   "outputs": [
    {
     "name": "stdout",
     "output_type": "stream",
     "text": [
      "Welcome to the CBC MILP Solver \r\n",
      "Version: 2.9.0 \r\n",
      "Build Date: Feb 12 2015 \r\n",
      "\r\n",
      "command line - c:\\users\\alfai\\src\\pulpa\\pulp\\apis\\..\\solverdir\\cbc\\win\\64\\cbc.exe C:\\Users\\alfai\\AppData\\Local\\Temp\\f2a2a5d1b7084b44bb104284d7b10cf2-pulp.mps max ratio None allow None threads None presolve on strong None gomory on knapsack on probing on branch printingOptions all solution C:\\Users\\alfai\\AppData\\Local\\Temp\\f2a2a5d1b7084b44bb104284d7b10cf2-pulp.sol (default strategy 1)\r\n",
      "At line 2 NAME          MODEL\r\n",
      "At line 3 ROWS\r\n",
      "At line 8 COLUMNS\r\n",
      "At line 16 RHS\r\n",
      "At line 20 BOUNDS\r\n",
      "At line 21 ENDATA\r\n",
      "Problem MODEL has 3 rows, 2 columns and 5 elements\r\n",
      "Coin0008I MODEL read with 0 errors\r\n",
      "String of None is illegal for double parameter ratioGap value remains 0\r\n",
      "String of None is illegal for double parameter allowableGap value remains 0\r\n",
      "String of None is illegal for integer parameter threads value remains 0\r\n",
      "String of None is illegal for integer parameter strongBranching value remains 5\r\n",
      "Option for gomoryCuts changed from ifmove to on\r\n",
      "Option for knapsackCuts changed from ifmove to on\r\n",
      "Presolve 2 (-1) rows, 2 (0) columns and 4 (-1) elements\r\n",
      "0  Obj -0 Dual inf 7500 (2)\r\n",
      "1  Obj 3648333.3\r\n",
      "Optimal - objective value 3648333.3\r\n",
      "After Postsolve, objective 3648333.3, infeasibilities - dual 0 (0), primal 0 (0)\r\n",
      "Optimal objective 3648333.333 - 1 iterations time 0.002, Presolve 0.00\r\n",
      "Option for printingOptions changed from normal to all\r\n",
      "Total time (CPU seconds):       0.00   (Wallclock seconds):       0.00\r\n",
      "\r\n",
      "Estado (optimizador): Optimal\n",
      "\n",
      "Función objetivo = $ 3648333.32\n",
      "Fabricar  682.38095 \t unidades de chocolate oscuro\n",
      "Fabricar  315.0 \t unidades de chocolate blanco\n"
     ]
    }
   ],
   "source": [
    "#se importa la libreria de PulP\n",
    "import pulp as lp\n",
    "\n",
    "#-------------------------------------\n",
    "# Creación del objeto problema en PuLP\n",
    "#-------------------------------------\n",
    "problema = lp.LpProblem(\"Perla\",       #Nombre\n",
    "                        lp.LpMaximize) #Sentido de la optimización\n",
    "\n",
    "#-----------------------------\n",
    "# Variables de Decisión\n",
    "#-----------------------------\n",
    "#Unidades de chocolate oscuro producidas cada semana\n",
    "x_1 = lp.LpVariable(\"C_oscuro\",            #Nombre\n",
    "                    lowBound = 0,          #Cota inferior\n",
    "                    upBound = None,        #Cota superior\n",
    "                    cat = lp.LpContinuous) #Tipo de variable\n",
    "#Unidades de chocolate blanco producidas cada semana\n",
    "x_2 = lp.LpVariable(\"C_blanco\",            #Nombre\n",
    "                    lowBound = 0,          #Cota inferior\n",
    "                    upBound = None,        #Cota superior\n",
    "                    cat = lp.LpContinuous) #Tipo de variable\n",
    "\n",
    "#-----------------------------\n",
    "# Función objetivo\n",
    "#-----------------------------\n",
    "#(1) Crea la expresión de maximización de utilidades \n",
    "problema += 3500*x_1 + 4000*x_2, \"Utilidades Totales\"\n",
    "\n",
    "#-----------------------------\n",
    "# Restricciones\n",
    "#-----------------------------\n",
    "#(2) Respeta la disponibilidad de manteca de cacao \n",
    "problema += 6*x_1 + 22*x_2 <= 12000, \"Manteca_cacao\"\n",
    "#(3) Respeta la disponibilidad de azucar\n",
    "problema += 21*x_1 +18*x_2 <= 20000, \"Azucar\"\n",
    "#(4) Garantiza que la producción no sobrepase a lo demandado\n",
    "problema += x_2 <= 315, \"Demanda\"\n",
    "\n",
    "#-----------------------------\n",
    "# Imprimir formato LP\n",
    "#-----------------------------\n",
    "#Escribe el problema en un archivo con formato LP \n",
    "problema.writeLP(\"Perla.lp\")\n",
    "\n",
    "#-----------------------------\n",
    "# Invocar el optimizador\n",
    "#-----------------------------\n",
    "#Optimizar el modelo con CBC (default de PuLP)\n",
    "problema.solve()\n",
    "\n",
    "#-----------------------------\n",
    "#    Imprimir resultados\n",
    "#-----------------------------\n",
    "#Imprimir estado final del optimizador\n",
    "print(\"Estado (optimizador):\", lp.LpStatus[problema.status],end='\\n')\n",
    "#Imprimir el valor de la función objetivo\n",
    "print(\"\\nFunción objetivo = $\", round(lp.value(problema.objective),2))\n",
    "#Imprimir el valor de las variables\n",
    "print(\"Fabricar \",x_1.value(),\"\\t unidades de chocolate oscuro\")\n",
    "print(\"Fabricar \",x_2.value(),\"\\t unidades de chocolate blanco\")"
   ]
  },
  {
   "cell_type": "markdown",
   "metadata": {},
   "source": [
    "## Créditos\n",
    "\n",
    "Equipo Principios de Optimización<br>\n",
    "Instancias: Alfaima Solano<br>\n",
    "Fecha: 30/09/2020"
   ]
  }
 ],
 "metadata": {
  "kernelspec": {
   "display_name": "Python 3",
   "language": "python",
   "name": "python3"
  },
  "language_info": {
   "codemirror_mode": {
    "name": "ipython",
    "version": 3
   },
   "file_extension": ".py",
   "mimetype": "text/x-python",
   "name": "python",
   "nbconvert_exporter": "python",
   "pygments_lexer": "ipython3",
   "version": "3.7.6"
  }
 },
 "nbformat": 4,
 "nbformat_minor": 4
}