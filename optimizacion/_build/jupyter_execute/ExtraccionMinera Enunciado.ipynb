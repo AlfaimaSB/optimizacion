{
 "cells": [
  {
   "cell_type": "markdown",
   "metadata": {},
   "source": [
    "# Extracción minera"
   ]
  },
  {
   "cell_type": "markdown",
   "metadata": {},
   "source": [
    "## Punto 1"
   ]
  },
  {
   "cell_type": "markdown",
   "metadata": {},
   "source": [
    "### Enunciado\n",
    "La minería de cielo abierto es una actividad industrial que consiste en remover grandes cantidades de suelo para extraer el mineral deseado. Este tipo de minas son comunes en la extracción de materiales como: arena, arcilla, cobre y carbón. Las directivas de una empresa de extracción minera desean explotar un conjunto de zonas ($M$), de las cuales se puede extraer un conjunto de diferentes tipos de carbón ($K$). Se sabe que de la zona $i\\in M$ sólo puede extraerse el carbón tipo $j\\in K$. Para ello, suponga que $a_{ij}$ es un parámetro binario que toma el valor de 1 si en la zona $i\\in M$ se puede extraer carbón del tipo $j\\in K$ y 0 en el caso contrario. La Figura 1 presenta un ejemplo en el cual hay 36 zonas y 4 tipos de carbón. Por ejemplo, para la zona uno se tiene que $a_{11}=0$, $a_{12}=1$, $a_{13}=0$ y $a_{14}=0$ ya que de la zona 1 sólo puede extraerse el tipo de carbón 2 (hulla). "
   ]
  },
  {
   "cell_type": "markdown",
   "metadata": {},
   "source": [
    "*Figura 1:*\n",
    "<table>\n",
    "  <tr id=\"ROW1\">\n",
    "\t<td style=\"text-align:center; background-color: lightblue\">1</td>\n",
    "\t<td style=\"text-align:center; background-color: lightblue\">2</td>\n",
    "\t<td style=\"text-align:center; background-color: green\">3</td>\n",
    "    <td style=\"text-align:center; background-color: green\">4</td> \n",
    "    <td style=\"text-align:center; background-color: lightblue\">5</td>\n",
    "    <td style=\"text-align:center; background-color: green\">6</td>\n",
    "  </tr>\n",
    "  <tr id=\"ROW2\">\n",
    "\t<td style=\"text-align:center; background-color: lightblue\">7</td>\n",
    "\t<td style=\"text-align:center; background-color: lightblue\">8</td>\n",
    "\t<td style=\"text-align:center; background-color: purple\">9</td>\n",
    "    <td style=\"text-align:center; background-color: purple\">10</td> \n",
    "    <td style=\"text-align:center; background-color: lightblue\">11</td>\n",
    "    <td style=\"text-align:center; background-color: green\">12</td>\n",
    "  </tr>\n",
    "  <tr id=\"ROW3\">\n",
    "\t<td style=\"text-align:center; background-color: purple\">13</td>\n",
    "\t<td style=\"text-align:center; background-color: green\">14</td>\n",
    "\t<td style=\"text-align:center; background-color: green\">15</td>\n",
    "    <td style=\"text-align:center; background-color: lightblue\">16</td> \n",
    "    <td style=\"text-align:center; background-color: lightblue\">17</td>\n",
    "    <td style=\"text-align:center; background-color: green\">18</td>\n",
    "  </tr>\n",
    "  <tr id=\"ROW4\">\n",
    "\t<td style=\"text-align:center; background-color: purple\">19</td>\n",
    "\t<td style=\"text-align:center; background-color: red\">20</td>\n",
    "\t<td style=\"text-align:center; background-color: green\">21</td>\n",
    "    <td style=\"text-align:center; background-color: purple\">22</td> \n",
    "    <td style=\"text-align:center; background-color: purple\">23</td>\n",
    "    <td style=\"text-align:center; background-color: purple\">24</td>\n",
    "  </tr>\n",
    "  <tr id=\"ROW5\">\n",
    "\t<td style=\"text-align:center; background-color: purple\">25</td>\n",
    "\t<td style=\"text-align:center; background-color: green\">26</td>\n",
    "\t<td style=\"text-align:center; background-color: green\">27</td>\n",
    "    <td style=\"text-align:center; background-color: red\">28</td> \n",
    "    <td style=\"text-align:center; background-color: red\">29</td>\n",
    "    <td style=\"text-align:center; background-color: red\">30</td>\n",
    "  </tr>\n",
    "  <tr id=\"ROW6\">\n",
    "\t<td style=\"text-align:center; background-color: lightblue\">31</td>\n",
    "\t<td style=\"text-align:center; background-color: green\">32</td>\n",
    "\t<td style=\"text-align:center; background-color: lightblue\">33</td>\n",
    "    <td style=\"text-align:center; background-color: purple\">34</td> \n",
    "    <td style=\"text-align:center; background-color: red\">35</td>\n",
    "    <td style=\"text-align:center; background-color: purple\">36</td>\n",
    "  </tr>\n",
    "</table>\n",
    "<br>\n",
    "<table>\n",
    "  <tr id=\"ROW1\">\n",
    "\t<td style=\"text-align:center; background-color: purple\">Antracita</td>\n",
    "\t<td style=\"text-align:center; background-color: lightblue\">Hulla</td>\n",
    "\t<td style=\"text-align:center; background-color: green\">Turba</td>\n",
    "    <td style=\"text-align:center; background-color: red\">Lignito</td> \n",
    "  </tr>\n",
    "</table>"
   ]
  },
  {
   "cell_type": "markdown",
   "metadata": {},
   "source": [
    "Cada tonelada de carbón extraída de la zona $i\\in M$ le cuesta a la empresa $c_i$ pesos.  Adicionalmente, cada zona tiene una capacidad máxima de extracción de carbón de $n_i$ toneladas. La Tabla 1 muestra la información de capacidades máximas y costos para cada zona.\n",
    "\n",
    "<p style=\"text-align: center;\"><b>Tabla 1. Información de extracción de cada zona</b></p>\n",
    "\n",
    "|Zona|Capacidad máxima de extracción de carbón (ton)|Costo por tonelada de carbón extraído ($)|\n",
    "|:--:|:--------------------------------------------:|:--------------------------------------:|\n",
    "|1|189|16|\n",
    "|2|196|6|\n",
    "|3|143|11|\n",
    "|4|136|8|\n",
    "|5|106|5|\n",
    "|6|151|25|\n",
    "|7|170|16|\n",
    "|8|129|17|\n",
    "|9|184|25|\n",
    "|10|122|8|\n",
    "|11|146|15|\n",
    "|12|190|8|\n",
    "|13|160|10|\n",
    "|14|109|20|\n",
    "|15|133|6|\n",
    "|16|198|17|\n",
    "|17|138|6|\n",
    "|18|107|20|\n",
    "|19|117|5|\n",
    "|20|150|8|\n",
    "|21|171|25|\n",
    "|22|103|11|\n",
    "|23|157|8|\n",
    "|24|143|7|\n",
    "|25|170|7|\n",
    "|26|130|28|\n",
    "|27|140|26|\n",
    "|28|126|27|\n",
    "|29|180|9|\n",
    "|30|153|24|\n",
    "|31|108|15|\n",
    "|32|132|14|\n",
    "|33|105|22|\n",
    "|34|145|20|\n",
    "|35|145|19|\n",
    "|36|114|8|\n",
    "\n",
    "<br>\n",
    "\n",
    "Por último. Suponga que las directivas desean explotar un mínimo de $b_j$ toneladas de cada tipo de carbón $j\\in K$. La Tabla 2 presenta dichas cantidades.\n",
    "\n",
    "<p style=\"text-align: center;\"><b>Tabla 2. Requerimiento mínimo de cada tipo de carbón</b></p>\n",
    "\n",
    "|Tipo de carbón|Mínimo de toneladas a explotar|\n",
    "|:------------:|:----------------------------:|\n",
    "|Antracita|862|\n",
    "|Huila|898|\n",
    "|Turba|562|\n",
    "|Lignito|742|\n",
    "\n",
    "<br> \n",
    "Usted debe formular un programa lineal que le permita a la empresa decidir cuánto deben extraer en cada zona de manera que se cumplan los requerimientos a un mínimo costo. Para esto usted debe seguir los siguientes pasos: "
   ]
  },
  {
   "cell_type": "markdown",
   "metadata": {},
   "source": [
    "### Formulación\n",
    "**a.** Describa la(s) variable(s) de decisión que utilizará en el modelo. \n"
   ]
  },
  {
   "cell_type": "markdown",
   "metadata": {},
   "source": [
    "**b.** Escriba la(s) restricción(es) lineal(es) que describe(n) la cantidad de carbón extraído del tipo $j\\in K$, debe como mínimo $b_j$.    \n"
   ]
  },
  {
   "cell_type": "markdown",
   "metadata": {},
   "source": [
    "**c.** Escriba la(s) restricción(es) lineal(es) que describe(n) que no se pueden extraer más de ($n_i$) toneladas de carbón en la zona $i\\in M$.   \n"
   ]
  },
  {
   "cell_type": "markdown",
   "metadata": {},
   "source": [
    "**d.** Escriba la(s) restricción(es) que describe(n) la naturaleza de la(s) variable(s) incluida(s) en el modelo. \n"
   ]
  },
  {
   "cell_type": "markdown",
   "metadata": {},
   "source": [
    "**e.** Escriba la función objetivo.\n"
   ]
  },
  {
   "cell_type": "markdown",
   "metadata": {},
   "source": [
    "### Implementación\n",
    "**g.** Resuelva el modelo planteado utilizando la librería de PulP en Python. ¿Cuál es la solución\n",
    "óptima del problema? "
   ]
  },
  {
   "cell_type": "code",
   "execution_count": null,
   "metadata": {},
   "outputs": [],
   "source": []
  },
  {
   "cell_type": "markdown",
   "metadata": {},
   "source": [
    "## Punto 2"
   ]
  },
  {
   "cell_type": "markdown",
   "metadata": {},
   "source": [
    "### Enunciado\n",
    "Ahora considere el escenario en que la empresa incurre en un costo fijo de $q_i$ pesos cuando decide extraer carbón de la zona $i\\in M$. Por lo tanto, si se decide explotar la mina $i\\in M$, no se pueden extraer más de ($n_i$) toneladas de carbón. Pero si no se decide explotar, la extracción de carbón en esa zona debe ser igual a cero (0). La Tabla 3 presenta la información sobre los costos fijos de extraer cada zona. \n",
    "<br>\n",
    "\n",
    "<p style=\"text-align: center;\"><b>Tabla 3. Costo fijo por extracción para cada zona</b></p>\n",
    "\n",
    "|Zona|Costo fijo de extracción en la zona|\n",
    "|:--:|:---------------------------------:|\n",
    "|1|240|\n",
    "|2|155|\n",
    "|3|240|\n",
    "|4|125|\n",
    "|5|177|\n",
    "|6|342|\n",
    "|7|157|\n",
    "|8|457|\n",
    "|9|396|\n",
    "|10|411|\n",
    "|11|341|\n",
    "|12|469|\n",
    "|13|402|\n",
    "|14|186|\n",
    "|15|404|\n",
    "|16|344|\n",
    "|17|290|\n",
    "|18|340|\n",
    "|19|482|\n",
    "|20|472|\n",
    "|21|394|\n",
    "|22|102|\n",
    "|23|330|\n",
    "|24|433|\n",
    "|25|205|\n",
    "|26|394|\n",
    "|27|156|\n",
    "|28|298|\n",
    "|29|134|\n",
    "|30|462|\n",
    "|31|432|\n",
    "|32|362|\n",
    "|33|127|\n",
    "|34|203|\n",
    "|35|417|\n",
    "|36|215|\n",
    "\n",
    "\n",
    "\n",
    "\n",
    "Para esto usted debe seguir los siguientes pasos: "
   ]
  },
  {
   "cell_type": "markdown",
   "metadata": {},
   "source": [
    "### Formulación\n",
    "**a.** Describa la(s) variable(s) de decisión adicional(es) que utilizará en el modelo. \n"
   ]
  },
  {
   "cell_type": "markdown",
   "metadata": {},
   "source": [
    "**b.** Escriba la(s) restricción(es) lineal(es) que describe(n) que si se decide explotar la mina $i\\in M$, no se pueden extraer más de ($n_i$) toneladas de carbón. Pero que, si no se decide explotar, la extracción de carbón debe ser igual a cero."
   ]
  },
  {
   "cell_type": "markdown",
   "metadata": {},
   "source": [
    "**c.** Escriba la(s) restricción(es) que describe(n) la naturaleza de la(s) variable(s) adicional(es).\n"
   ]
  },
  {
   "cell_type": "markdown",
   "metadata": {},
   "source": [
    "\n",
    "**e.** Escriba la función objetivo.\n"
   ]
  },
  {
   "cell_type": "markdown",
   "metadata": {},
   "source": [
    "### Implementación\n",
    "**f.** Resuelva el modelo planteado utilizando la librería de PulP en Python. ¿Cuál es la solución\n",
    "óptima del problema? "
   ]
  },
  {
   "cell_type": "code",
   "execution_count": null,
   "metadata": {},
   "outputs": [],
   "source": []
  },
  {
   "cell_type": "markdown",
   "metadata": {},
   "source": [
    "## Créditos\n",
    "\n",
    "Equipo Principios de Optimización<br>\n",
    "Instancia: Juan Felipe Rengifo M<br>\n",
    "Fecha: 30/09/2020"
   ]
  }
 ],
 "metadata": {
  "kernelspec": {
   "display_name": "Python 3",
   "language": "python",
   "name": "python3"
  },
  "language_info": {
   "codemirror_mode": {
    "name": "ipython",
    "version": 3
   },
   "file_extension": ".py",
   "mimetype": "text/x-python",
   "name": "python",
   "nbconvert_exporter": "python",
   "pygments_lexer": "ipython3",
   "version": "3.7.7"
  }
 },
 "nbformat": 4,
 "nbformat_minor": 4
}