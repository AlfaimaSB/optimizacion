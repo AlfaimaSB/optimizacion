{
 "cells": [
  {
   "cell_type": "markdown",
   "metadata": {},
   "source": [
    "## Repositorio de Principios de Optimización"
   ]
  },
  {
   "cell_type": "markdown",
   "metadata": {},
   "source": [
    "<div style=\"text-align:justify\">\n",
    "Bienvenidos al repositorio de prácticas de formulación del curso IIND2103 Principios de Optimización. El objetivo de este repositorio es el de acompañar las clases del curso con ejercicios prácticos que los estudiantes puedan revisar como material complementario. Para resolver los ejercicios, usaremos <i>Python</i> como lenguaje de programación y el paquete <i>PuLP</i> para los modelos de optimización.\n",
    "<br>\n",
    "<br>\n",
    "En la parte izquierda te encontrarás con algunas secciones que corresponden a practicas de formulación. Cada sección tiene una pestaña de enunciado y una pestaña de solución. La idea de esta división es que puedas intentar desarrollar el ejercicio por tu cuenta, sin distracciones, y que luego puedas comparar tu desarrollo con nuestra solución. Los códigos que encuentres en este compilado, los puedes copiar y pegar en un script de <i>Python</i> y modificarlos con un ambiente de desarrollo como <i>Spyder</i>. \n",
    "<br>\n",
    "<br> \n",
    "Las prácticas están organizadas por temas, empezando desde las más sencillas e incrementando poco a poco el nivel de complejidad. Si no estás seguro de cuáles son las prácticas que puedes resolver hasta el momento puedes consultarle a un asistente o instructor del curso al respecto. \n",
    "<br>\n",
    "<br>\n",
    "Sin más, ¡a optimizar!"
   ]
  },
  {
   "cell_type": "markdown",
   "metadata": {},
   "source": [
    "\n",
    "```{toctree}\n",
    ":hidden:\n",
    ":titlesonly:\n",
    ":caption: Prácticas de formulación\n",
    "\n",
    "Enunciados\\Chocolatería Enunciado\n",
    "Enunciados\\PlaneacionMenus Enunciado\n",
    "Enunciados\\OptiJuice Enunciado\n",
    "Enunciados\\Transporte Enunciado\n",
    "Enunciados\\Inventarios Enunciado\n",
    "Enunciados\\ExtraccionMinera Enunciado\n",
    "Enunciados\\Asignación Enunciado\n",
    "```\n"
   ]
  }
 ],
 "metadata": {
  "kernelspec": {
   "display_name": "Python 3",
   "language": "python",
   "name": "python3"
  },
  "language_info": {
   "codemirror_mode": {
    "name": "ipython",
    "version": 3
   },
   "file_extension": ".py",
   "mimetype": "text/x-python",
   "name": "python",
   "nbconvert_exporter": "python",
   "pygments_lexer": "ipython3",
   "version": "3.7.6"
  }
 },
 "nbformat": 4,
 "nbformat_minor": 4
}